{
 "cells": [
  {
   "cell_type": "code",
   "execution_count": 1,
   "metadata": {
    "collapsed": true
   },
   "outputs": [],
   "source": [
    "import pickle\n",
    "\n",
    "path = '/home/pastafarianist/mu_roomy_data/mapping.pickle'"
   ]
  },
  {
   "cell_type": "code",
   "execution_count": 2,
   "metadata": {
    "collapsed": true
   },
   "outputs": [],
   "source": [
    "import generator as gen"
   ]
  },
  {
   "cell_type": "code",
   "execution_count": 3,
   "metadata": {
    "collapsed": true
   },
   "outputs": [],
   "source": [
    "with open(path, 'rb') as f:\n",
    "    mapping = pickle.load(f)\n",
    "#mapping = [((196867, 3468000), [(66307, 15392820)])]"
   ]
  },
  {
   "cell_type": "code",
   "execution_count": 4,
   "metadata": {
    "collapsed": false
   },
   "outputs": [
    {
     "data": {
      "text/plain": [
       "((66307, 12760068), [(66307, 12715188)])"
      ]
     },
     "execution_count": 4,
     "metadata": {},
     "output_type": "execute_result"
    }
   ],
   "source": [
    "next(iter(mapping.items()))"
   ]
  },
  {
   "cell_type": "code",
   "execution_count": 5,
   "metadata": {
    "collapsed": false
   },
   "outputs": [
    {
     "data": {
      "text/plain": [
       "5"
      ]
     },
     "execution_count": 5,
     "metadata": {},
     "output_type": "execute_result"
    }
   ],
   "source": [
    "max(len(src) for src in mapping.values())"
   ]
  },
  {
   "cell_type": "code",
   "execution_count": 6,
   "metadata": {
    "collapsed": false
   },
   "outputs": [
    {
     "data": {
      "text/plain": [
       "[0, 258048, 0, 8192, 0, 258048, 0]"
      ]
     },
     "execution_count": 6,
     "metadata": {},
     "output_type": "execute_result"
    }
   ],
   "source": [
    "[sum(1 for src in mapping.values() if len(src) == l) for l in range(7)]"
   ]
  },
  {
   "cell_type": "code",
   "execution_count": 7,
   "metadata": {
    "collapsed": false
   },
   "outputs": [
    {
     "name": "stdout",
     "output_type": "stream",
     "text": [
      "(66307, 12760068) [(66307, 12715188)]\n"
     ]
    }
   ],
   "source": [
    "can, src = next((can, src) for can, src in mapping.items() if len(src) == 1)# and gen.num_ones(can[1]) == 0)\n",
    "print(can, src)"
   ]
  },
  {
   "cell_type": "code",
   "execution_count": 8,
   "metadata": {
    "collapsed": false
   },
   "outputs": [
    {
     "data": {
      "text/plain": [
       "('1 red, 2 red, 1 blue, 2 blue, 1 yellow',\n",
       " '3 red, 3 blue, 5 blue, 6 blue, 8 blue, 2 yellow, 7 yellow, 8 yellow')"
      ]
     },
     "execution_count": 8,
     "metadata": {},
     "output_type": "execute_result"
    }
   ],
   "source": [
    "gen.cardset_to_str(can[0]), gen.cardset_to_str(can[1])"
   ]
  },
  {
   "cell_type": "code",
   "execution_count": 9,
   "metadata": {
    "collapsed": true
   },
   "outputs": [],
   "source": [
    "hand, deck = src[0][0], src[0][1] # 66307, 12715188"
   ]
  },
  {
   "cell_type": "code",
   "execution_count": 10,
   "metadata": {
    "collapsed": false,
    "scrolled": false
   },
   "outputs": [
    {
     "name": "stdout",
     "output_type": "stream",
     "text": [
      "[(66307, 12760068), (196867, 311988), (196867, 11846148), (197377, 308418), (197377, 11797698)]\n"
     ]
    }
   ],
   "source": [
    "cstate = gen.canonicalize(gen.State(0, hand, deck))"
   ]
  },
  {
   "cell_type": "code",
   "execution_count": 11,
   "metadata": {
    "collapsed": false
   },
   "outputs": [
    {
     "data": {
      "text/plain": [
       "('1 red, 2 red, 1 blue, 2 blue, 1 yellow',\n",
       " '3 red, 5 red, 6 red, 8 red, 3 blue, 2 yellow, 7 yellow, 8 yellow')"
      ]
     },
     "execution_count": 11,
     "metadata": {},
     "output_type": "execute_result"
    }
   ],
   "source": [
    "gen.cardset_to_str(hand), gen.cardset_to_str(deck)"
   ]
  },
  {
   "cell_type": "code",
   "execution_count": 12,
   "metadata": {
    "collapsed": false
   },
   "outputs": [
    {
     "data": {
      "text/plain": [
       "('1 red, 2 red, 1 blue, 2 blue, 1 yellow',\n",
       " '3 red, 3 blue, 5 blue, 6 blue, 8 blue, 2 yellow, 7 yellow, 8 yellow')"
      ]
     },
     "execution_count": 12,
     "metadata": {},
     "output_type": "execute_result"
    }
   ],
   "source": [
    "gen.cardset_to_str(cstate.hand), gen.cardset_to_str(cstate.deck)"
   ]
  },
  {
   "cell_type": "code",
   "execution_count": 13,
   "metadata": {
    "collapsed": false
   },
   "outputs": [
    {
     "data": {
      "text/plain": [
       "('1 red, 2 red, 1 blue, 2 blue, 1 yellow',\n",
       " '1 red, 1 blue, 2 blue, 1 yellow, 2 yellow')"
      ]
     },
     "execution_count": 13,
     "metadata": {},
     "output_type": "execute_result"
    }
   ],
   "source": [
    "gen.cardset_to_str(66307), gen.cardset_to_str(gen.apply_permutation(66307, (2, 0, 1)))"
   ]
  },
  {
   "cell_type": "code",
   "execution_count": 14,
   "metadata": {
    "collapsed": false
   },
   "outputs": [
    {
     "name": "stdout",
     "output_type": "stream",
     "text": [
      "[(66307, 12715188), (66307, 12760068), (196867, 11846148), (197377, 308418), (197377, 11797698)]\n"
     ]
    },
    {
     "data": {
      "text/plain": [
       "State(score=0, hand=66307, deck=12715188)"
      ]
     },
     "execution_count": 14,
     "metadata": {},
     "output_type": "execute_result"
    }
   ],
   "source": [
    "gen.canonicalize(gen.State(0, 196867, 311988))"
   ]
  },
  {
   "cell_type": "code",
   "execution_count": null,
   "metadata": {
    "collapsed": true
   },
   "outputs": [],
   "source": []
  }
 ],
 "metadata": {
  "kernelspec": {
   "display_name": "Python 3",
   "language": "python",
   "name": "python3"
  },
  "language_info": {
   "codemirror_mode": {
    "name": "ipython",
    "version": 3
   },
   "file_extension": ".py",
   "mimetype": "text/x-python",
   "name": "python",
   "nbconvert_exporter": "python",
   "pygments_lexer": "ipython3",
   "version": "3.4.3"
  }
 },
 "nbformat": 4,
 "nbformat_minor": 0
}
